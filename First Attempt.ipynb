{
 "cells": [
  {
   "cell_type": "code",
   "execution_count": 1,
   "metadata": {},
   "outputs": [],
   "source": [
    "import numpy as np\n",
    "import random"
   ]
  },
  {
   "cell_type": "code",
   "execution_count": 2,
   "metadata": {},
   "outputs": [],
   "source": [
    "def BlackJackStrategy(hand, dealer_card):\n",
    "    hard_count=sum(hand)\n",
    "    cards=len(hand)\n",
    "    aces_count= 1*(1 in hand)\n",
    "    soft_count=hard_count\n",
    "    good_cards=[1,7,8,9,10]\n",
    "    \n",
    "    if cards<2:\n",
    "        return 'Not enough cards'\n",
    "    \n",
    "    if hard_count<=11:\n",
    "        soft_count= hard_count + 10*aces_count\n",
    "        \n",
    "    if cards==2 and soft_count==21:\n",
    "        return 'Blackjack'\n",
    "    \n",
    "    \n",
    "    if soft_count>=19:\n",
    "        return 'Stay'\n",
    "    \n",
    "    if hand==[9,9] and dealer_card not in [1,7,10]:\n",
    "        return 'Split'\n",
    "    \n",
    "    if hard_count>=17 :\n",
    "        return 'Stay'\n",
    "\n",
    "    \n",
    "    if cards>2:\n",
    "        if hard_count==soft_count:\n",
    "            if hard_count<=11:\n",
    "                return 'Hit'\n",
    "\n",
    "            if hard_count==12 and dealer_card <=3:\n",
    "                return 'Hit'\n",
    "\n",
    "            if dealer_card in good_cards:\n",
    "                return 'Hit'\n",
    "\n",
    "            return 'Stay'\n",
    "        \n",
    "        \n",
    "        if soft_count<=17:\n",
    "            return 'Hit'\n",
    "        \n",
    "        if soft_count==18 and dealer_card in [1,9,10]:\n",
    "            return 'Hit'\n",
    "        \n",
    "        \n",
    "        \n",
    "        return 'Stay'\n",
    "    \n",
    "            \n",
    "        \n",
    "    \n",
    "    if cards==2:\n",
    "        \n",
    "        if hand[0]==hand[1]:\n",
    "            card= hand[0]\n",
    "            \n",
    "            if card==1:\n",
    "                return 'Split'\n",
    "            \n",
    "            if card==8 and dealer_card!=1:\n",
    "                return 'Split'\n",
    "            \n",
    "            if card in [2,3,7] and dealer_card not in [1,8,9,10]:\n",
    "                return 'Split'\n",
    "            \n",
    "            if card==6 and dealer_card not in good_cards:\n",
    "                return 'Split'\n",
    "            \n",
    "            if card==4 and dealer_card in [5,6]:\n",
    "                return 'Split'\n",
    "            \n",
    "        if hard_count==soft_count:\n",
    "            \n",
    "            if hard_count==11 and dealer_card!=1:\n",
    "                return 'Double'\n",
    "            \n",
    "            if hard_count==10 and dealer_card not in [1,10]:\n",
    "                return 'Double'\n",
    "            \n",
    "            if hard_count==9 and dealer_card not in ([2]+ good_cards):\n",
    "                return 'Double'\n",
    "            \n",
    "            if hard_count<=11:\n",
    "                return 'Hit'\n",
    "\n",
    "            if hard_count==12 and dealer_card <=3:\n",
    "                return 'Hit'\n",
    "\n",
    "            if dealer_card in good_cards:\n",
    "                return 'Hit'\n",
    "\n",
    "            return 'Stay'\n",
    "            \n",
    "        \n",
    "        if hard_count!=soft_count:\n",
    "            \n",
    "\n",
    "                \n",
    "            if soft_count==18:\n",
    "                \n",
    "                if dealer_card not in ([2]+good_cards):\n",
    "                    return 'Double'\n",
    "                \n",
    "                if dealer_card in [2,7,8]:\n",
    "                    return 'Stay'\n",
    "                \n",
    "            if soft_count==17 and dealer_card in [3,4,5,6]:\n",
    "                return 'Double'\n",
    "            \n",
    "            if soft_count in [15,16] and dealer_card in [4,5,6]:\n",
    "                return 'Double'\n",
    "            \n",
    "            if soft_count in [13,14] and dealer_card in [5,6]:\n",
    "                return 'Double'\n",
    "            \n",
    "            return 'Hit'"
   ]
  },
  {
   "cell_type": "code",
   "execution_count": 3,
   "metadata": {},
   "outputs": [
    {
     "data": {
      "text/plain": [
       "'Hit'"
      ]
     },
     "execution_count": 3,
     "metadata": {},
     "output_type": "execute_result"
    }
   ],
   "source": [
    "\n",
    "BlackJackStrategy([6,5], 1)"
   ]
  },
  {
   "cell_type": "code",
   "execution_count": 4,
   "metadata": {},
   "outputs": [],
   "source": [
    "def blackjack_hand_result(bet=10, player_hand='q', dealer_card='q', hard_code= 4):\n",
    "    #Deck of cards, 4 types of 10\n",
    "    \n",
    "    deck=np.array([1,2,3,4,5,6,7,8,9,10,10,10,10])\n",
    "    \n",
    "    #hard stay condition for split aces\n",
    "    \n",
    "    hard_stay=False\n",
    "    \n",
    "    #Creating a random hand if none is input\n",
    "    \n",
    "    if type(player_hand)==str:\n",
    "    \n",
    "        player_hand=[random.choice(deck), random.choice(deck)]\n",
    "        \n",
    "    #Turning on hard stay for split aces\n",
    "        \n",
    "    if player_hand==[1]:\n",
    "        hard_stay==True\n",
    "        \n",
    "    #Adding a 2nd card to hand after splits    \n",
    "        \n",
    "    while len(player_hand)<2:\n",
    "        player_hand.append(random.choice(deck))\n",
    "        \n",
    "    #Creating dealer card, and dealer cards\n",
    "        \n",
    "    if type(dealer_card)==str:\n",
    "    \n",
    "        dealer_card=random.choice(deck)\n",
    "        \n",
    "    dealer_cards=[dealer_card]\n",
    "    \n",
    "    \n",
    "    #If hard stay condition is false\n",
    "        \n",
    "    if hard_stay==False:\n",
    "        \n",
    "        #Seeing if player hit blackjack\n",
    "        \n",
    "        \n",
    "        if BlackJackStrategy(player_hand, dealer_card) == 'Blackjack':\n",
    "            \n",
    "            #Seeing if casino also hit blackjack, in which case tie\n",
    "            \n",
    "            dealer_cards.append(random.choice(deck))\n",
    "            if 1 in (dealer_cards):\n",
    "                if sum(dealer_cards)==11:\n",
    "                    return 0\n",
    "                \n",
    "             #Blackjack bonus, if not   \n",
    "\n",
    "            return bet*1.5\n",
    "        \n",
    "        if type(hard_code)== str:\n",
    "            if hard_code=='Hit':\n",
    "                player_hand.append(random.choice(deck))\n",
    "                return blackjack_hand_result(bet, player_hand, dealer_card, hard_code= 4)\n",
    "            \n",
    "            if hard_code=='Double':\n",
    "                if len(player_hand)==2:\n",
    "                    player_hand.append(random.choice(deck))\n",
    "                    bet= bet*2\n",
    "                    if sum(player_hand)>21:\n",
    "                        return 0 - bet\n",
    "                    \n",
    "                else:\n",
    "                    return 'Double Not Possible'\n",
    "                \n",
    "            if hard_code=='Split':\n",
    "                \n",
    "                \n",
    "                if len(player_hand)==2: \n",
    "                    \n",
    "                    if player_hand[0]==player_hand[1]:\n",
    "                        \n",
    "                        \n",
    "                        res = blackjack_hand_result(bet=bet, player_hand=[player_hand[0]], dealer_card=dealer_card, hard_code= 'Split')\n",
    "                        res+= blackjack_hand_result(bet=bet, player_hand=[player_hand[0]], dealer_card=dealer_card, hard_code= 'Split')\n",
    "\n",
    "                        return res \n",
    "                        \n",
    "                \n",
    "                    \n",
    "                    else:\n",
    "                        return blackjack_hand_result(bet=bet, player_hand= player_hand, dealer_card=dealer_card)\n",
    "\n",
    "                    \n",
    "                else:\n",
    "                    return blackjack_hand_result(bet=bet, player_hand=player_hand, dealer_card=dealer_card)\n",
    "\n",
    "                    \n",
    "        \n",
    "        \n",
    "        else:\n",
    "        #Seeing how often it says to 'hit'\n",
    "\n",
    "            while BlackJackStrategy(player_hand, dealer_card) == 'Hit':\n",
    "                #Adding one card for every hit\n",
    "                player_hand.append(random.choice(deck))\n",
    "\n",
    "                #Player loses bet if hand goes above 21\n",
    "                if sum(player_hand)>21:\n",
    "                    return 0- bet\n",
    "\n",
    "                #If player Doubles\n",
    "\n",
    "            if BlackJackStrategy(player_hand, dealer_card)=='Double':\n",
    "                #He gets exactly one extra card and the bet size is doubled\n",
    "                player_hand.append(random.choice(deck))\n",
    "                bet= bet * 2\n",
    "                if sum(player_hand)>21:\n",
    "                    return 0- bet\n",
    "\n",
    "                #If player Splits\n",
    "\n",
    "            if BlackJackStrategy(player_hand, dealer_card)== 'Split':\n",
    "\n",
    "                #Runs the sim twice, as different hands, slightly less variance than real life, but it's okay\n",
    "\n",
    "                res= blackjack_hand_result(bet, [player_hand[0]], dealer_card) \n",
    "                res+= blackjack_hand_result(bet, [player_hand[0]], dealer_card)\n",
    "                \n",
    "\n",
    "                return res\n",
    "        \n",
    "        while True:\n",
    "            #Plays out the blackjack hand from dealer's side\n",
    "            \n",
    "            #Give dealer extra card if loop hasn't broken\n",
    "            dealer_cards.append(random.choice(deck))\n",
    "            \n",
    "            \n",
    "            #Keep track of sum of dealer's cards\n",
    "            dealer_score= sum(dealer_cards)\n",
    "            \n",
    "            #Keep track of soft score if dealer has an ace\n",
    "            \n",
    "            soft_score= dealer_score\n",
    "            if dealer_score<=11 and 1 in dealer_cards:\n",
    "                soft_score+=10\n",
    "                \n",
    "            #If dealer gets blackjack you lose even if you have 21\n",
    "            if len(dealer_cards)==2 and soft_score==21:\n",
    "                return 0-bet\n",
    "                \n",
    "            #Keeps track of player's score     \n",
    "            player_score=sum(player_hand)\n",
    "            \n",
    "            #Uses soft score if that is better for player\n",
    "            if player_score<=11 and 1 in player_hand:\n",
    "                player_score+=10\n",
    "                \n",
    "            \n",
    "            #Dealer stays on all 17s\n",
    "            if soft_score>=17:\n",
    "                \n",
    "                #If dealer bust, player wins bet\n",
    "                if soft_score>21:\n",
    "                    return bet\n",
    "                \n",
    "                #If player has more than dealer, player wins bet\n",
    "                if player_score>soft_score:\n",
    "                    return bet\n",
    "                \n",
    "                #Tie means no money changes hands\n",
    "                if player_score==soft_score:\n",
    "                    return 0\n",
    "                \n",
    "                #If player has lower, player loses bet\n",
    "                if player_score<soft_score:\n",
    "                    return 0 - bet\n",
    "                \n",
    "\n",
    "       \n",
    "    \n",
    "    if hard_stay==True:\n",
    "        \n",
    "        #Plays out only dealer's side, as player has to stop after 1 card\n",
    "        \n",
    "        while True:\n",
    "            \n",
    "            \n",
    "\n",
    "                #Give dealer extra card if loop hasn't broken\n",
    "            dealer_cards.append(random.choice(deck))\n",
    "            \n",
    "            \n",
    "            #Keep track of sum of dealer's cards\n",
    "            dealer_score= sum(dealer_cards)\n",
    "            \n",
    "            #Keep track of soft score if dealer has an ace\n",
    "            \n",
    "            soft_score= dealer_score\n",
    "            if dealer_score<=11 and 1 in dealer_cards:\n",
    "                soft_score+=10\n",
    "                \n",
    "            #If dealer gets blackjack you lose even if you have 21\n",
    "            if len(dealer_cards)==2 and soft_score==21:\n",
    "                return 0-bet\n",
    "                \n",
    "            #Keeps track of player's score     \n",
    "            player_score=sum(player_hand)\n",
    "            \n",
    "            #Uses soft score if that is better for player\n",
    "            if player_score<=11 and 1 in player_hand:\n",
    "                player_score+=10\n",
    "                \n",
    "            \n",
    "            #Dealer stays on all 17s\n",
    "            if soft_score>=17:\n",
    "                \n",
    "                #If dealer bust, player wins bet\n",
    "                if soft_score>21:\n",
    "                    return bet\n",
    "                \n",
    "                #If player has more than dealer, player wins bet\n",
    "                if player_score>soft_score:\n",
    "                    return bet\n",
    "                \n",
    "                #Tie means no money changes hands\n",
    "                if player_score==soft_score:\n",
    "                    return 0\n",
    "                \n",
    "                #If player has lower, player loses bet\n",
    "                if player_score<soft_score:\n",
    "                    return 0 - bet"
   ]
  },
  {
   "cell_type": "markdown",
   "metadata": {},
   "source": [
    "# Test to see house edge in Blackjack\n",
    "The ‘house edge’ in BlackJack, is the amount of money you would expect to lose for every $100 you wager. Which turns out to be between 10 and 40 cents."
   ]
  },
  {
   "cell_type": "code",
   "execution_count": 5,
   "metadata": {},
   "outputs": [],
   "source": [
    "def blackjack_sim(n_hands=50_000, player_h='q', dealer_c='q', bet=10, hard_c=4):\n",
    "    pnl=0\n",
    "    res=[]\n",
    "    p=player_h\n",
    "    q=len(player_h)\n",
    "    for i in range(n_hands):\n",
    "        pnl+= blackjack_hand_result(bet=bet, player_hand=p[:q], dealer_card=dealer_c, hard_code= hard_c)\n",
    "        \n",
    "    return pnl"
   ]
  },
  {
   "cell_type": "code",
   "execution_count": 6,
   "metadata": {
    "scrolled": true
   },
   "outputs": [
    {
     "data": {
      "text/plain": [
       "0.23969999999999997"
      ]
     },
     "execution_count": 6,
     "metadata": {},
     "output_type": "execute_result"
    }
   ],
   "source": [
    "#Simulates a million hands to estimate house edge\n",
    "house_edge=-100*(blackjack_sim(n_hands=1_000_000, bet=1) / 1_000_000)\n",
    "house_edge #percentage"
   ]
  },
  {
   "cell_type": "markdown",
   "metadata": {},
   "source": [
    "Double 7 vs 6"
   ]
  },
  {
   "cell_type": "code",
   "execution_count": 7,
   "metadata": {},
   "outputs": [
    {
     "data": {
      "text/plain": [
       "2514"
      ]
     },
     "execution_count": 7,
     "metadata": {},
     "output_type": "execute_result"
    }
   ],
   "source": [
    "#Player profit from following basic strategy\n",
    "#Made about 2500 \n",
    "blackjack_sim(n_hands=100_000, player_h=[4,3], dealer_c=6, bet=1)"
   ]
  },
  {
   "cell_type": "code",
   "execution_count": 8,
   "metadata": {},
   "outputs": [
    {
     "data": {
      "text/plain": [
       "-13752"
      ]
     },
     "execution_count": 8,
     "metadata": {},
     "output_type": "execute_result"
    }
   ],
   "source": [
    "blackjack_sim(n_hands=100_000, player_h=[4,3], dealer_c=6, bet=1, hard_c='Double')"
   ]
  },
  {
   "cell_type": "markdown",
   "metadata": {},
   "source": [
    "Split 10s vs 6"
   ]
  },
  {
   "cell_type": "code",
   "execution_count": 9,
   "metadata": {},
   "outputs": [
    {
     "data": {
      "text/plain": [
       "70156"
      ]
     },
     "execution_count": 9,
     "metadata": {},
     "output_type": "execute_result"
    }
   ],
   "source": [
    "blackjack_sim(n_hands=100_000, player_h=[10,10], dealer_c=6, bet=1)"
   ]
  },
  {
   "cell_type": "code",
   "execution_count": 10,
   "metadata": {},
   "outputs": [
    {
     "data": {
      "text/plain": [
       "60721.5"
      ]
     },
     "execution_count": 10,
     "metadata": {},
     "output_type": "execute_result"
    }
   ],
   "source": [
    "blackjack_sim(n_hands=100_000, player_h=[10,10], dealer_c=6, bet=1, hard_c='Split')"
   ]
  },
  {
   "cell_type": "code",
   "execution_count": null,
   "metadata": {},
   "outputs": [],
   "source": []
  },
  {
   "cell_type": "code",
   "execution_count": null,
   "metadata": {},
   "outputs": [],
   "source": []
  },
  {
   "cell_type": "code",
   "execution_count": null,
   "metadata": {},
   "outputs": [],
   "source": [
    "https://towardsdatascience.com/python-blackjack-simulator-61b591ffb971"
   ]
  }
 ],
 "metadata": {
  "kernelspec": {
   "display_name": "Python 3",
   "language": "python",
   "name": "python3"
  },
  "language_info": {
   "codemirror_mode": {
    "name": "ipython",
    "version": 3
   },
   "file_extension": ".py",
   "mimetype": "text/x-python",
   "name": "python",
   "nbconvert_exporter": "python",
   "pygments_lexer": "ipython3",
   "version": "3.8.5"
  }
 },
 "nbformat": 4,
 "nbformat_minor": 4
}
